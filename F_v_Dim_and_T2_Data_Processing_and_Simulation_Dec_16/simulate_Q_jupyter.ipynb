{
 "cells": [
  {
   "cell_type": "code",
   "execution_count": 1,
   "metadata": {},
   "outputs": [
    {
     "name": "stdout",
     "output_type": "stream",
     "text": [
      "USING Q-FUNCTION POINTS\n"
     ]
    }
   ],
   "source": [
    "import numpy as np\n",
    "import matplotlib.pyplot as plt\n",
    "import os\n",
    "import h5py\n",
    "from qutip import *\n",
    "from estimation import *\n",
    "from data_processing import *\n",
    "from scipy.io import savemat\n",
    "from targets import *\n",
    "import exp_params\n",
    "import scipy as sc"
   ]
  },
  {
   "cell_type": "markdown",
   "metadata": {},
   "source": [
    "### Check yourself: print function, dimension, and number of displacements"
   ]
  },
  {
   "cell_type": "code",
   "execution_count": 2,
   "metadata": {},
   "outputs": [
    {
     "name": "stdout",
     "output_type": "stream",
     "text": [
      "Q\n",
      "D=6\n",
      "nD=35\n"
     ]
    }
   ],
   "source": [
    "print(f\"{exp_params.which_function}\\nD={exp_params.D}\\nnD={exp_params.nD}\")"
   ]
  },
  {
   "cell_type": "markdown",
   "metadata": {},
   "source": [
    "### State list "
   ]
  },
  {
   "cell_type": "code",
   "execution_count": 3,
   "metadata": {},
   "outputs": [
    {
     "name": "stdout",
     "output_type": "stream",
     "text": [
      "['fock0' 'fock01' 'fock0i1' 'fock02' 'fock0i2' 'fock1' 'fock03' 'fock0i3'\n",
      " 'fock12' 'fock1i2' 'fock04' 'fock0i4' 'fock13' 'fock1i3' 'fock2' 'fock05'\n",
      " 'fock0i5' 'fock14' 'fock1i4' 'fock23' 'fock2i3' 'fock15' 'fock1i5'\n",
      " 'fock24' 'fock2i4' 'fock3' 'fock25' 'fock2i5' 'fock34' 'fock3i4' 'fock35'\n",
      " 'fock3i5' 'fock4' 'fock45' 'fock4i5' 'fock5']\n"
     ]
    }
   ],
   "source": [
    "state_list = exp_params.fock_state_list\n",
    "print(state_list)"
   ]
  },
  {
   "cell_type": "markdown",
   "metadata": {},
   "source": [
    "### Choose whether to use grape or ideal for state preparation and target states, and specify target state directory"
   ]
  },
  {
   "cell_type": "code",
   "execution_count": 4,
   "metadata": {},
   "outputs": [],
   "source": [
    "use_grape = True\n",
    "# GRAPE generated target states\n",
    "\n",
    "target_states_directory = r\"target_states\""
   ]
  },
  {
   "cell_type": "markdown",
   "metadata": {},
   "source": [
    "### Gather linear inversion variables used to generate Least-Squares estimator, $\\rho_{LS}$"
   ]
  },
  {
   "cell_type": "code",
   "execution_count": 5,
   "metadata": {},
   "outputs": [],
   "source": [
    "# Load inverse map variables for converting pe to rho\n",
    "map_variables = np.load(\n",
    "    f\"map_variables\\map_variables_D={exp_params.D}_nD={exp_params.nD}_Q.npz\"\n",
    ")\n",
    "W = map_variables[\"W\"]\n",
    "beta = map_variables[\"beta\"]\n"
   ]
  },
  {
   "cell_type": "markdown",
   "metadata": {},
   "source": [
    "### Function for protocol simulation with QuTiP"
   ]
  },
  {
   "cell_type": "code",
   "execution_count": 6,
   "metadata": {},
   "outputs": [],
   "source": [
    "def pns_sim(rho_init, frq):\n",
    "    H0 = (\n",
    "        -2 * np.pi * frq * exp_params.Qd * exp_params.Q\n",
    "        - 2 * np.pi\n",
    "        * exp_params.chi\n",
    "        * exp_params.Qd\n",
    "        * exp_params.Q\n",
    "        * exp_params.Cd\n",
    "        * exp_params.C\n",
    "        # - 2\n",
    "        # * np.pi\n",
    "        # * exp_params.chi_prime\n",
    "        # / 2\n",
    "        # * exp_params.Qd\n",
    "        # * exp_params.Q\n",
    "        # * exp_params.Cd\n",
    "        # * exp_params.Cd\n",
    "        # * exp_params.C\n",
    "        # * exp_params.C\n",
    "        - 2\n",
    "        * np.pi\n",
    "        * exp_params.Kerr\n",
    "        / 2\n",
    "        * exp_params.Cd\n",
    "        * exp_params.Cd\n",
    "        * exp_params.C\n",
    "        * exp_params.C\n",
    "        - 2\n",
    "        * np.pi\n",
    "        * exp_params.alpha\n",
    "        / 2\n",
    "        * exp_params.Qd\n",
    "        * exp_params.Qd\n",
    "        * exp_params.Q\n",
    "        * exp_params.Q\n",
    "    )\n",
    "    Hd = 2 * np.pi * exp_params.power_rabi_A_Q * 1j * (exp_params.Qd - exp_params.Q)\n",
    "\n",
    "    tlist_pi_selective = np.linspace(0, exp_params.sigma_Q * exp_params.chop_Q, 101)\n",
    "    H = [H0, [Hd, exp_params.pulse_Q]]\n",
    "    # e_ops = [\n",
    "    #     tensor(ue * ue.dag(), qeye(cdim)),  # Qd * Q,\n",
    "    # ]\n",
    "\n",
    "    # options = Options(max_step = 4, nsteps = 1e6)\n",
    "    results = mesolve(\n",
    "        H,\n",
    "        rho_init,\n",
    "        tlist_pi_selective,\n",
    "        c_ops=exp_params.c_ops_qc,  # e_ops=e_ops\n",
    "    )  # , options = options)#, progress_bar = True)\n",
    "\n",
    "    rho_qt = results.states[-1].ptrace([0])\n",
    "    return np.around((rho_qt * (exp_params.ue * exp_params.ue.dag())).tr(), 6)"
   ]
  },
  {
   "cell_type": "markdown",
   "metadata": {},
   "source": [
    "### Iterate through the states, run the protocol, and record in numpy arrays the fidelities, standard deviations, and $\\rho_{BME}$ for each. "
   ]
  },
  {
   "cell_type": "code",
   "execution_count": 7,
   "metadata": {},
   "outputs": [],
   "source": [
    "F_MLE = np.zeros(len(state_list), dtype=float)\n",
    "F_Bayes_BME = np.zeros(len(state_list), dtype=float)"
   ]
  },
  {
   "cell_type": "code",
   "execution_count": 8,
   "metadata": {},
   "outputs": [
    {
     "name": "stdout",
     "output_type": "stream",
     "text": [
      "state 0: fock0: 0.9747523543620531\n"
     ]
    }
   ],
   "source": [
    "for j, state_name in enumerate(state_list):\n",
    "    if use_grape:\n",
    "        rho_tar_qc = Y_target(state_name, target_states_directory, exp_params.qdim, exp_params.cdim)\n",
    "    else:\n",
    "        rho_tar_qc = tensor(fock_dm(exp_params.qdim, 0), ket2dm(cavity_target_state(state_name, exp_params.cdim))) \n",
    "\n",
    "    Pid = np.zeros(len(exp_params.disp_points))\n",
    "    Pidid = np.zeros(len(exp_params.disp_points))\n",
    "\n",
    "\n",
    "    w = 0\n",
    "\n",
    "    for v1 in np.arange(exp_params.TM1):\n",
    "        RHO_tar = (\n",
    "            tensor(\n",
    "\n",
    "                qeye(exp_params.qdim),\n",
    "                displace(exp_params.cdim, exp_params.disp_points[w]),\n",
    "            )\n",
    "\n",
    "            * rho_tar_qc\n",
    "            * tensor(\n",
    "                qeye(exp_params.qdim),\n",
    "                displace(exp_params.cdim, -exp_params.disp_points[w]),\n",
    "            )\n",
    "        )\n",
    "\n",
    "\n",
    "        Pid[w] = pns_sim(RHO_tar, exp_params.freq_detune_Q[1])\n",
    "\n",
    "\n",
    "        # Pidid[w] = RHO_tar.ptrace(1)[1,1].real\n",
    "\n",
    "\n",
    "        w += 1\n",
    "    for v2 in np.arange(exp_params.TM2):\n",
    "        RHO_tar = (\n",
    "            tensor(\n",
    "\n",
    "                qeye(exp_params.qdim),\n",
    "                displace(exp_params.cdim, exp_params.disp_points[w]),\n",
    "            )\n",
    "\n",
    "            * rho_tar_qc\n",
    "            * tensor(\n",
    "                qeye(exp_params.qdim),\n",
    "                displace(exp_params.cdim, -exp_params.disp_points[w]),\n",
    "            )\n",
    "        )\n",
    "\n",
    "\n",
    "        Pid[w] = pns_sim(RHO_tar, exp_params.freq_detune_Q[2])\n",
    "\n",
    "\n",
    "        # Pidid[w] = RHO_tar.ptrace(1)[2,2].real\n",
    "\n",
    "\n",
    "        w += 1\n",
    "    for v3 in np.arange(exp_params.TM3):\n",
    "        RHO_tar = (\n",
    "            tensor(\n",
    "\n",
    "                qeye(exp_params.qdim),\n",
    "                displace(exp_params.cdim, exp_params.disp_points[w]),\n",
    "            )\n",
    "\n",
    "            * rho_tar_qc\n",
    "            * tensor(\n",
    "                qeye(exp_params.qdim),\n",
    "                displace(exp_params.cdim, -exp_params.disp_points[w]),\n",
    "            )\n",
    "        )\n",
    "\n",
    "\n",
    "        Pid[w] = pns_sim(RHO_tar, exp_params.freq_detune_Q[3])\n",
    "\n",
    "\n",
    "        # Pidid[w] = RHO_tar.ptrace(1)[3,3].real\n",
    "\n",
    "\n",
    "        w += 1\n",
    "    for v4 in np.arange(exp_params.TM4):\n",
    "        RHO_tar = (\n",
    "            tensor(\n",
    "\n",
    "                qeye(exp_params.qdim),\n",
    "                displace(exp_params.cdim, exp_params.disp_points[w]),\n",
    "            )\n",
    "\n",
    "            * rho_tar_qc\n",
    "            * tensor(\n",
    "                qeye(exp_params.qdim),\n",
    "                displace(exp_params.cdim, -exp_params.disp_points[w]),\n",
    "            )\n",
    "        )\n",
    "\n",
    "\n",
    "        Pid[w] = pns_sim(RHO_tar, exp_params.freq_detune_Q[4])\n",
    "\n",
    "\n",
    "        # Pidid[w] = RHO_tar.ptrace(1)[4,4].real\n",
    "\n",
    "\n",
    "        w += 1\n",
    "    for v5 in np.arange(exp_params.TM5):\n",
    "        RHO_tar = (\n",
    "            tensor(\n",
    "\n",
    "                qeye(exp_params.qdim),\n",
    "                displace(exp_params.cdim, exp_params.disp_points[w]),\n",
    "            )\n",
    "\n",
    "            * rho_tar_qc\n",
    "            * tensor(\n",
    "                qeye(exp_params.qdim),\n",
    "                displace(exp_params.cdim, -exp_params.disp_points[w]),\n",
    "            )\n",
    "        )\n",
    "\n",
    "\n",
    "        Pid[w] = pns_sim(RHO_tar, exp_params.freq_detune_Q[5])\n",
    "\n",
    "\n",
    "        # Pidid[w] = RHO_tar.ptrace(1)[5,5].real\n",
    "\n",
    "\n",
    "        w += 1\n",
    "    for v6 in np.arange(exp_params.TM6):\n",
    "        RHO_tar = (\n",
    "            tensor(\n",
    "                qeye(exp_params.qdim),\n",
    "                displace(exp_params.cdim, exp_params.disp_points[w]),\n",
    "            )\n",
    "            * rho_tar_qc\n",
    "            * tensor(\n",
    "                qeye(exp_params.qdim),\n",
    "                displace(exp_params.cdim, -exp_params.disp_points[w]),\n",
    "            )\n",
    "        )\n",
    "        Pid[w] = pns_sim(RHO_tar, exp_params.freq_detune_Q[6])\n",
    "        # Pidid[w] = RHO_tar.ptrace(1)[5,5].real\n",
    "        w += 1\n",
    "    for v7 in np.arange(exp_params.TM7):\n",
    "        # print(\"in v7 for loop\")\n",
    "        RHO_tar = (\n",
    "            tensor(\n",
    "                qeye(exp_params.qdim),\n",
    "                displace(exp_params.cdim, exp_params.disp_points[w]),\n",
    "            )\n",
    "            * rho_tar_qc\n",
    "            * tensor(\n",
    "                qeye(exp_params.qdim),\n",
    "                displace(exp_params.cdim, -exp_params.disp_points[w]),\n",
    "            )\n",
    "        )\n",
    "        Pid[w] = pns_sim(RHO_tar, exp_params.freq_detune_Q[7])\n",
    "        # Pidid[w] = RHO_tar.ptrace(1)[5,5].real\n",
    "        w += 1\n",
    "\n",
    "\n",
    "    if use_grape:\n",
    "        if state_name in exp_params.pes_after_grape_sim[:, 0]:\n",
    "            pge = exp_params.pes_after_grape_sim[\n",
    "                (exp_params.pes_after_grape_sim[:, 0] == state_name), 1\n",
    "            ].astype(float)\n",
    "\n",
    "\n",
    "        else:\n",
    "            pge = exp_params.pe_after_grape_sim_avg\n",
    "    else:\n",
    "        pge = 0\n",
    "\n",
    "\n",
    "    Pid = (Pid - pge) / (1 - 2 * pge)\n",
    "\n",
    "    rho_est, qRho_est = get_LS_and_MLE_rho_est(\n",
    "        Pid, W, beta, exp_params.D, exp_params.nD\n",
    "    )\n",
    "\n",
    "\n",
    "    rho_tar_c = Qobj(rho_tar_qc.ptrace(1)[0 : exp_params.D, 0 : exp_params.D])\n",
    "\n",
    "\n",
    "    rho_tar_c = rho_tar_c / rho_tar_c.tr()  # normalise it, .unit()\n",
    "\n",
    "\n",
    "    Fmean_bayes, Fstd_bayes, rho_BME = bayesian_rho_est(\n",
    "        numSamp=2**10, N=exp_params.N_sim, rho_tar=rho_tar_c, rhoLS=rho_est.full()\n",
    "    )\n",
    "\n",
    "\n",
    "    F_Bayes_BME[j] = fidelity(rho_tar_c, Qobj(rho_BME)) ** 2\n",
    "\n",
    "\n",
    "    F_MLE[j] = fidelity(rho_tar_c, qRho_est) ** 2\n",
    "\n",
    "\n",
    "    print(f\"state {j}: {state_name}: {F_Bayes_BME[j]}\")"
   ]
  },
  {
   "cell_type": "markdown",
   "metadata": {},
   "source": [
    "### Save all the data so that we don't have to run this simulation again"
   ]
  },
  {
   "cell_type": "code",
   "execution_count": 9,
   "metadata": {},
   "outputs": [
    {
     "name": "stdout",
     "output_type": "stream",
     "text": [
      "MLE Fidelity: \n",
      " [[['fock0' '0.999919531307415']\n",
      "  ['fock01' '0.995714813539055']\n",
      "  ['fock0i1' '0.99472260519694']\n",
      "  ['fock1' '0.9764559995779065']]]\n",
      "Average MLE fidelity is 0.9917032374053292\n",
      "\n",
      "Bayes Fidelity:\n",
      " [[['fock0' '0.9998884342381686']\n",
      "  ['fock01' '0.99589005246477']\n",
      "  ['fock0i1' '0.9949969239112788']\n",
      "  ['fock1' '0.9825557035738327']]]\n",
      "Average Bayes fidelity is 0.9933327785470125\n"
     ]
    }
   ],
   "source": [
    "print(\"MLE Fidelity: \\n\", np.dstack((state_list, F_MLE)))\n",
    "print(f\"Average MLE fidelity is {np.mean(F_MLE)}\")\n",
    "print(\"\\nBayes Fidelity:\\n\", np.dstack((state_list, F_Bayes_BME)))\n",
    "print(f\"Average Bayes fidelity is {np.mean(F_Bayes_BME)}\")\n",
    "\n",
    "\n",
    "if use_grape:\n",
    "    np.savez(\n",
    "        f\"results_dimensions\\sim\\Q\\grape_target_states\\Bayes_F_D={exp_params.D}_nD={exp_params.nD}_grape_sim_Q.npz\",\n",
    "        F_MLE=F_MLE,\n",
    "        F_Bayes_BME=F_Bayes_BME,\n",
    "    )\n",
    "\n",
    "else:\n",
    "    np.savez(\n",
    "        f\"results_dimensions\\sim\\Q\\ideal_target_states\\Bayes_F_D={exp_params.D}_nD={exp_params.nD}_ideal_sim_Q.npz\",\n",
    "        F_MLE=F_MLE,\n",
    "        F_Bayes_BME=F_Bayes_BME,\n",
    "    )"
   ]
  }
 ],
 "metadata": {
  "kernelspec": {
   "display_name": ".venv",
   "language": "python",
   "name": "python3"
  },
  "language_info": {
   "codemirror_mode": {
    "name": "ipython",
    "version": 3
   },
   "file_extension": ".py",
   "mimetype": "text/x-python",
   "name": "python",
   "nbconvert_exporter": "python",
   "pygments_lexer": "ipython3",
   "version": "3.11.5"
  }
 },
 "nbformat": 4,
 "nbformat_minor": 2
}
