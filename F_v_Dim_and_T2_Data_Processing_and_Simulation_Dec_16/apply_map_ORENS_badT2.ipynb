{
 "cells": [
  {
   "cell_type": "code",
   "execution_count": 1,
   "metadata": {},
   "outputs": [
    {
     "name": "stdout",
     "output_type": "stream",
     "text": [
      "USING ORENS OBSERVABLES\n"
     ]
    }
   ],
   "source": [
    "import numpy as np\n",
    "import matplotlib.pyplot as plt\n",
    "import os\n",
    "import h5py\n",
    "from qutip import *\n",
    "from helpers.estimation import *\n",
    "from helpers.data_processing import *\n",
    "from helpers.targets import *\n",
    "import exp_params"
   ]
  },
  {
   "cell_type": "markdown",
   "metadata": {},
   "source": [
    "### Check yourself: print function, dimension, and number of displacements"
   ]
  },
  {
   "cell_type": "code",
   "execution_count": 2,
   "metadata": {},
   "outputs": [
    {
     "name": "stdout",
     "output_type": "stream",
     "text": [
      "Q\n",
      "D=6\n",
      "nD=35\n"
     ]
    }
   ],
   "source": [
    "print(f\"{exp_params.which_function}\\nD={exp_params.D}\\nnD={exp_params.nD}\")"
   ]
  },
  {
   "cell_type": "markdown",
   "metadata": {},
   "source": [
    "### State list"
   ]
  },
  {
   "cell_type": "code",
   "execution_count": 4,
   "metadata": {},
   "outputs": [
    {
     "name": "stdout",
     "output_type": "stream",
     "text": [
      "['cat-eve-1' 'cat-nmp-1' 'cat-nop-1' 'cat-odd-1']\n"
     ]
    }
   ],
   "source": [
    "state_list = exp_params.cat_state_list\n",
    "print(state_list)"
   ]
  },
  {
   "cell_type": "markdown",
   "metadata": {},
   "source": [
    "### Experimental data directory"
   ]
  },
  {
   "cell_type": "code",
   "execution_count": 7,
   "metadata": {},
   "outputs": [],
   "source": [
    "exp_data_directory = r\"data\\fidelity_v_t2\\Q\"\n",
    "all_files = np.array(os.listdir(exp_data_directory))"
   ]
  },
  {
   "cell_type": "markdown",
   "metadata": {},
   "source": [
    "### Directory for target states generated from grape (we don't use ideal when we're processing experimental data)"
   ]
  },
  {
   "cell_type": "code",
   "execution_count": 8,
   "metadata": {},
   "outputs": [],
   "source": [
    "# GRAPE generated target states\n",
    "target_states_directory = r\"target_states\""
   ]
  },
  {
   "cell_type": "markdown",
   "metadata": {},
   "source": [
    "### Gather linear inversion variables used to generate Least-Squares estimator, $\\rho_{LS}$"
   ]
  },
  {
   "cell_type": "code",
   "execution_count": 9,
   "metadata": {},
   "outputs": [],
   "source": [
    "# Load inverse map variables for converting pe to rho\n",
    "map_variables = np.load(\n",
    "    f\"map_variables\\map_variables_D={exp_params.D}_nD={exp_params.nD}_Q.npz\"\n",
    ")\n",
    "W = map_variables[\"W\"]\n",
    "beta = map_variables[\"beta\"]\n"
   ]
  },
  {
   "cell_type": "markdown",
   "metadata": {},
   "source": [
    "### Top level iteration through the T2s. Then, iterate through the states. For each state: 1) collect the observable outcomes, 2) perform linear inversion with the map to get $\\rho_{LS}$, 3) perform both MLE and Bayesian, and 4) record in numpy arrays the fidelities, standard deviations, and $\\rho_{BME}$ for each."
   ]
  },
  {
   "cell_type": "code",
   "execution_count": 10,
   "metadata": {},
   "outputs": [],
   "source": [
    "F_MLE = np.zeros(len(state_list), dtype=float)\n",
    "F_Bayes_BME = np.zeros(len(state_list), dtype=float)\n",
    "\n",
    "final_rho_BME = np.zeros(\n",
    "    (len(state_list), exp_params.D, exp_params.D), dtype=\"complex_\"\n",
    ")\n",
    "\n",
    "final_rho_MLE = np.zeros(\n",
    "    (len(state_list), exp_params.D, exp_params.D), dtype=\"complex_\"\n",
    ")\n"
   ]
  },
  {
   "cell_type": "code",
   "execution_count": 12,
   "metadata": {},
   "outputs": [
    {
     "name": "stdout",
     "output_type": "stream",
     "text": [
      "T2: 0\n",
      "\n",
      "\n",
      "\n"
     ]
    },
    {
     "name": "stderr",
     "output_type": "stream",
     "text": [
      "C:\\Users\\clara\\AppData\\Local\\Temp\\ipykernel_21864\\673795003.py:44: DeprecationWarning: Conversion of an array with ndim > 0 to a scalar is deprecated, and will error in future. Ensure you extract a single element from your array before performing this operation. (Deprecated NumPy 1.25.)\n",
      "  data[point - 1] = aux\n"
     ]
    },
    {
     "name": "stdout",
     "output_type": "stream",
     "text": [
      "state 0: cat-eve-1: 0.9481592423310247\n"
     ]
    }
   ],
   "source": [
    "RR_No_list = [0, 1, 2, 3, 4]\n",
    "\n",
    "\n",
    "for rrno in RR_No_list:\n",
    "    print(f\"T2: {rrno}\\n\\n\\n\")\n",
    "    for j, state_name in enumerate(state_list):  # State List\n",
    "\n",
    "        data = np.zeros([exp_params.nD])  # Initialize data vector\n",
    "\n",
    "\n",
    "        for point in range(1, exp_params.nD + 1):  # Point1 to Point35\n",
    "\n",
    "            ending = (\n",
    "                \"_grape_\" + str(state_name) + \"_point\" + str(point - 1) + f\"_No{rrno}\"\n",
    "            )\n",
    "            matching = [\n",
    "                filename\n",
    "                for filename in all_files\n",
    "                if (filename.split(\"_ampx\")[0]).endswith(str(ending))\n",
    "            ]\n",
    "            filepath = exp_data_directory + \"/\" + matching[0]\n",
    "            file = h5py.File(filepath, \"r\")\n",
    "\n",
    "\n",
    "            signal = post_selection(filepath)\n",
    "\n",
    "\n",
    "            if state_name in exp_params.pes_after_grape[:, 0]:\n",
    "\n",
    "                pge = exp_params.pes_after_grape[\n",
    "\n",
    "                    (exp_params.pes_after_grape[:, 0] == state_name), 1\n",
    "\n",
    "                ].astype(float)\n",
    "\n",
    "\n",
    "            else:\n",
    "\n",
    "                pge = exp_params.pe_after_grape_avg\n",
    "\n",
    "\n",
    "            aux = (signal - pge) / (1 - 2 * pge)\n",
    "\n",
    "            data[point - 1] = aux\n",
    "\n",
    "\n",
    "        rho_est, qRho_est = get_LS_and_MLE_rho_est(\n",
    "\n",
    "            data, W, beta, exp_params.D, exp_params.nD\n",
    "        )\n",
    "\n",
    "\n",
    "        rho_tar_qc = Y_target(\n",
    "\n",
    "            state_name, target_states_directory, qdim=exp_params.qdim, cdim=exp_params.cdim\n",
    "        )\n",
    "\n",
    "\n",
    "        rho_tar_c = Qobj(rho_tar_qc.ptrace(1)[0 : exp_params.D, 0 : exp_params.D])\n",
    "\n",
    "        rho_tar_c = rho_tar_c / rho_tar_c.tr()  # normalise it, .unit()\n",
    "\n",
    "\n",
    "        Fmean_bayes, Fstd_bayes, rho_BME = bayesian_rho_est(\n",
    "\n",
    "            numSamp=2**10,\n",
    "\n",
    "            N=exp_params.N_exp,\n",
    "\n",
    "            rho_tar=rho_tar_c,\n",
    "\n",
    "            rhoLS=rho_est.full(),\n",
    "        )\n",
    "\n",
    "\n",
    "        F_Bayes_BME[j] = fidelity(rho_tar_c, Qobj(rho_BME)) ** 2\n",
    "\n",
    "        F_MLE[j] = fidelity(rho_tar_c, qRho_est) ** 2\n",
    "\n",
    "\n",
    "        final_rho_BME[j, :, :] = rho_BME\n",
    "\n",
    "        final_rho_MLE[j, :, :] = qRho_est\n",
    "\n",
    "\n",
    "        print(f\"state {j}: {state_name}: {F_Bayes_BME[j]}\")\n",
    "    np.savez(\n",
    "        f\"results_t2\\exp\\Q\\Bayes_F_rrno={rrno}_BME_MLE_rho_Q.npz\",\n",
    "        F_Bayes_BME=F_Bayes_BME,\n",
    "        F_MLE=F_MLE,\n",
    "        final_rho_BME=final_rho_BME,\n",
    "        final_rho_MLE=final_rho_MLE,\n",
    "    )"
   ]
  },
  {
   "cell_type": "markdown",
   "metadata": {},
   "source": [
    "### Print and save results in an npz"
   ]
  },
  {
   "cell_type": "code",
   "execution_count": null,
   "metadata": {},
   "outputs": [],
   "source": []
  }
 ],
 "metadata": {
  "kernelspec": {
   "display_name": ".venv",
   "language": "python",
   "name": "python3"
  },
  "language_info": {
   "codemirror_mode": {
    "name": "ipython",
    "version": 3
   },
   "file_extension": ".py",
   "mimetype": "text/x-python",
   "name": "python",
   "nbconvert_exporter": "python",
   "pygments_lexer": "ipython3",
   "version": "3.11.5"
  }
 },
 "nbformat": 4,
 "nbformat_minor": 2
}
