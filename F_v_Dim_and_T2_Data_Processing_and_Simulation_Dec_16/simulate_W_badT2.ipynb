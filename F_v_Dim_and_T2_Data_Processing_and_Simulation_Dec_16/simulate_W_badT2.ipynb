{
 "cells": [
  {
   "cell_type": "code",
   "execution_count": 1,
   "metadata": {},
   "outputs": [
    {
     "name": "stdout",
     "output_type": "stream",
     "text": [
      "USING W-FUNCTION POINTS\n"
     ]
    }
   ],
   "source": [
    "import numpy as np\n",
    "from qutip import *\n",
    "from helpers.estimation import *\n",
    "from helpers.data_processing import *\n",
    "from helpers.targets import *\n",
    "import exp_params\n",
    "import scipy as sc"
   ]
  },
  {
   "cell_type": "markdown",
   "metadata": {},
   "source": [
    "### Check yourself: print the function, dimension, and number of displacements"
   ]
  },
  {
   "cell_type": "code",
   "execution_count": 2,
   "metadata": {},
   "outputs": [
    {
     "name": "stdout",
     "output_type": "stream",
     "text": [
      "W\n",
      "D=6\n",
      "nD=35\n"
     ]
    }
   ],
   "source": [
    "print(f\"{exp_params.which_function}\\nD={exp_params.D}\\nnD={exp_params.nD}\")"
   ]
  },
  {
   "cell_type": "markdown",
   "metadata": {},
   "source": [
    "### State list "
   ]
  },
  {
   "cell_type": "code",
   "execution_count": 3,
   "metadata": {},
   "outputs": [
    {
     "name": "stdout",
     "output_type": "stream",
     "text": [
      "['cat-eve-1' 'cat-nmp-1' 'cat-nop-1' 'cat-odd-1']\n"
     ]
    }
   ],
   "source": [
    "state_list = exp_params.cat_state_list\n",
    "print(state_list)"
   ]
  },
  {
   "cell_type": "markdown",
   "metadata": {},
   "source": [
    "### Choose whether to use grape or ideal for state preparation and target states"
   ]
  },
  {
   "cell_type": "code",
   "execution_count": 4,
   "metadata": {},
   "outputs": [],
   "source": [
    "use_grape = True\n",
    "\n",
    "# GRAPE generated target states\n",
    "target_states_directory = r\"target_states\" # path to directory of target states generated from grape"
   ]
  },
  {
   "cell_type": "markdown",
   "metadata": {},
   "source": [
    "### Gather linear inversion variables used to generate Least-Squares estimator, $\\rho_{LS}$"
   ]
  },
  {
   "cell_type": "code",
   "execution_count": 5,
   "metadata": {},
   "outputs": [],
   "source": [
    "# Load inverse map variables for converting pe to rho\n",
    "map_variables = np.load(\n",
    "    f\"map_variables\\map_variables_D={exp_params.D}_nD={exp_params.nD}_W.npz\"\n",
    ")\n",
    "W = map_variables[\"W\"]\n",
    "beta = map_variables[\"beta\"]\n"
   ]
  },
  {
   "cell_type": "markdown",
   "metadata": {},
   "source": [
    "### Function for protocol simulation with QuTiP"
   ]
  },
  {
   "cell_type": "code",
   "execution_count": 6,
   "metadata": {},
   "outputs": [],
   "source": [
    "def wigner_sim(rho_init, c_ops_qc):\n",
    "    H_dis = exp_params.H0\n",
    "\n",
    "    Hd = (\n",
    "        2 * np.pi * exp_params.power_rabi_A_W * 1j * (exp_params.Qd - exp_params.Q) / 2\n",
    "    )  # 1/2 factor for Ry(pi/2)\n",
    "    H = [H_dis, [Hd, exp_params.pulse_W]]\n",
    "\n",
    "    Hdm = (\n",
    "        -2 * np.pi * exp_params.power_rabi_A_W * 1j * (exp_params.Qd - exp_params.Q) / 2\n",
    "    )  # 1/2 factor for Ry(pi/2)\n",
    "    Hm = [H_dis, [Hdm, exp_params.pulse_W]]\n",
    "\n",
    "    tlist_wait = np.linspace(0, exp_params.twait_W, 11)\n",
    "    tlist_pi_half = np.linspace(0, exp_params.sigma_W * exp_params.chop_W, 101)\n",
    "\n",
    "    # first pi/2\n",
    "    result1 = mesolve(H, rho_init, tlist_pi_half, c_ops=c_ops_qc)\n",
    "\n",
    "    # dispersive coupling\n",
    "    result2 = mesolve(H_dis, result1.states[-1], tlist_wait, c_ops=c_ops_qc)\n",
    "\n",
    "    # second pi/2\n",
    "    result3 = mesolve(H, result2.states[-1], tlist_pi_half, c_ops=c_ops_qc)\n",
    "\n",
    "    # second -pi/2\n",
    "    result3m = mesolve(Hm, result2.states[-1], tlist_pi_half, c_ops=c_ops_qc)\n",
    "\n",
    "    rho_qt = result3.states[-1].ptrace([0])\n",
    "    rho_qtm = result3m.states[-1].ptrace([0])\n",
    "\n",
    "    # w_id[i] = (par * rho_c).tr().real\n",
    "    pe = (rho_qt * (exp_params.ue * exp_params.ue.dag())).tr()\n",
    "    pem = (rho_qtm * (exp_params.ue * exp_params.ue.dag())).tr()\n",
    "\n",
    "    return np.around(pe, 6), np.around(pem, 6)"
   ]
  },
  {
   "cell_type": "markdown",
   "metadata": {},
   "source": [
    "### Top-level iteration through the T2 values. For each T2 value, iterate through the states, run the protocol, and record in numpy arrays the fidelities, standard deviations, and $\\rho_{BME}$ for each. This saves both the normal Wigner and corrected Wigner information. One npz file per T2."
   ]
  },
  {
   "cell_type": "code",
   "execution_count": 7,
   "metadata": {},
   "outputs": [],
   "source": [
    "F_MLE_corr = np.zeros(len(state_list), dtype=float)\n",
    "F_Bayes_BME_corr = np.zeros(len(state_list), dtype=float)\n",
    "\n",
    "F_MLE_norm = np.zeros(len(state_list), dtype=float)\n",
    "F_Bayes_BME_norm = np.zeros(len(state_list), dtype=float)"
   ]
  },
  {
   "cell_type": "code",
   "execution_count": 8,
   "metadata": {},
   "outputs": [
    {
     "name": "stdout",
     "output_type": "stream",
     "text": [
      "badT2=22389.12\n",
      "state 0: cat-eve-1, corr: 0.9834220676990738\n",
      "state 0: cat-eve-1, norm: 0.7416268002495368\n",
      "\n"
     ]
    }
   ],
   "source": [
    "for k, badT2 in enumerate(exp_params.badt2_list):\n",
    "    print(f\"badT2={badT2}\")\n",
    "    for j, state_name in enumerate(state_list):\n",
    "        if use_grape:\n",
    "            rho_tar_qc = Y_target(\n",
    "                state_name, target_states_directory, exp_params.qdim, exp_params.cdim\n",
    "            )\n",
    "\n",
    "\n",
    "        else:\n",
    "            rho_tar_qc = tensor(\n",
    "                fock_dm(exp_params.qdim, 0),\n",
    "                ket2dm(cavity_target_state(state_name, exp_params.cdim)),\n",
    "            )\n",
    "\n",
    "\n",
    "        Pid_corr = np.zeros(len(exp_params.disp_points))\n",
    "\n",
    "\n",
    "        Pid_norm = np.zeros(len(exp_params.disp_points))\n",
    "\n",
    "\n",
    "        if use_grape:\n",
    "\n",
    "            if state_name in exp_params.pes_after_grape_sim[:, 0]:\n",
    "                pge = exp_params.pes_after_grape_sim[\n",
    "                    (exp_params.pes_after_grape_sim[:, 0] == state_name), 1\n",
    "                ].astype(float)\n",
    "\n",
    "\n",
    "            else:\n",
    "\n",
    "                pge = exp_params.pe_after_grape_sim_avg\n",
    "\n",
    "        else:\n",
    "            pge = 0\n",
    "\n",
    "\n",
    "        for w in range(len(exp_params.disp_points)):\n",
    "\n",
    "            RHO_tar = (\n",
    "                tensor(\n",
    "\n",
    "                    qeye(exp_params.qdim),\n",
    "\n",
    "                    displace(exp_params.cdim, exp_params.disp_points[w]),\n",
    "                )\n",
    "\n",
    "                * rho_tar_qc\n",
    "                * tensor(\n",
    "                    qeye(exp_params.qdim),\n",
    "\n",
    "                    displace(exp_params.cdim, -exp_params.disp_points[w]),\n",
    "                )\n",
    "\n",
    "            )\n",
    "            Tphi_badt2 = 1 / (1 / badT2 - 0.5 / exp_params.T1)\n",
    "            c_ops_qc = [\n",
    "                # Qubit Relaxation\n",
    "                np.sqrt((1 + exp_params.nbar_qb) / exp_params.T1) * exp_params.Q,\n",
    "                # Qubit Thermal Excitations\n",
    "                np.sqrt(exp_params.nbar_qb / exp_params.T1) * exp_params.Qd,\n",
    "                # Qubit Dephasing, changed\n",
    "                np.sqrt(2 / Tphi_badt2) * exp_params.Qd * exp_params.Q,\n",
    "                # Cavity Relaxation\n",
    "                np.sqrt((1 + exp_params.nbar_cav) / exp_params.cavT1) * exp_params.C,\n",
    "                # Cavity Thermal Excitations\n",
    "                np.sqrt(exp_params.nbar_cav / exp_params.cavT1) * exp_params.Cd,\n",
    "            ]\n",
    "\n",
    "\n",
    "            pe, pem = wigner_sim(RHO_tar, c_ops_qc)\n",
    "\n",
    "\n",
    "            Pid_corr[w] = (\n",
    "                (pe - pge) / (1 - 2 * pge) - (pem - pge) / (1 - 2 * pge)\n",
    "            ).squeeze()\n",
    "\n",
    "\n",
    "            Pid_norm[w] = (2 * (pe - pge) / (1 - 2 * pge) - 1).squeeze()\n",
    "        ##################################################################\n",
    "\n",
    "\n",
    "        rho_est_corr, qRho_est_corr = get_LS_and_MLE_rho_est(\n",
    "            Pid_corr, W, beta, exp_params.D, exp_params.nD\n",
    "        )\n",
    "\n",
    "\n",
    "        rho_est_norm, qRho_est_norm = get_LS_and_MLE_rho_est(\n",
    "            Pid_norm, W, beta, exp_params.D, exp_params.nD\n",
    "        )\n",
    "\n",
    "\n",
    "        rho_tar_c = Qobj(rho_tar_qc.ptrace(1)[0 : exp_params.D, 0 : exp_params.D])\n",
    "\n",
    "\n",
    "        rho_tar_c = rho_tar_c / rho_tar_c.tr()  # normalise it, .unit()\n",
    "\n",
    "\n",
    "        Fmean_bayes_corr, Fstd_bayes_corr, rho_BME_corr = bayesian_rho_est(\n",
    "\n",
    "            numSamp=2**10,\n",
    "            N=exp_params.N_sim,\n",
    "            rho_tar=rho_tar_c,\n",
    "            rhoLS=rho_est_corr.full(),\n",
    "        )\n",
    "\n",
    "\n",
    "        Fmean_bayes_norm, Fstd_bayes_norm, rho_BME_norm = bayesian_rho_est(\n",
    "\n",
    "            numSamp=2**10,\n",
    "            N=exp_params.N_sim,\n",
    "            rho_tar=rho_tar_c,\n",
    "            rhoLS=rho_est_norm.full(),\n",
    "        )\n",
    "\n",
    "\n",
    "        F_Bayes_BME_corr[j] = fidelity(rho_tar_c, Qobj(rho_BME_corr)) ** 2\n",
    "\n",
    "        F_Bayes_BME_norm[j] = fidelity(rho_tar_c, Qobj(rho_BME_norm)) ** 2\n",
    "\n",
    "\n",
    "        F_MLE_corr[j] = fidelity(rho_tar_c, qRho_est_corr) ** 2\n",
    "\n",
    "        F_MLE_norm[j] = fidelity(rho_tar_c, qRho_est_norm) ** 2\n",
    "\n",
    "\n",
    "        print(f\"state {j}: {state_name}, corr: {F_Bayes_BME_corr[j]}\")\n",
    "\n",
    "        print(f\"state {j}: {state_name}, norm: {F_Bayes_BME_norm[j]}\\n\")\n",
    "    if use_grape:\n",
    "        np.savez(\n",
    "            f\"results_t2\\sim\\W\\grape_target_states\\Bayes_F_rrno={k}_sim_W.npz\",\n",
    "            F_MLE_corr=F_MLE_corr,\n",
    "            F_Bayes_BME_corr=F_Bayes_BME_corr,\n",
    "            F_MLE_norm=F_MLE_norm,\n",
    "            F_Bayes_BME_norm=F_Bayes_BME_norm,\n",
    "        )\n",
    "    else:\n",
    "        np.savez(\n",
    "            f\"results_t2\\sim\\W\\ideal_target_states\\Bayes_F_rrno={k}_sim_W.npz\",\n",
    "            F_MLE_corr=F_MLE_corr,\n",
    "            F_Bayes_BME_corr=F_Bayes_BME_corr,\n",
    "            F_MLE_norm=F_MLE_norm,\n",
    "            F_Bayes_BME_norm=F_Bayes_BME_norm,\n",
    "        )"
   ]
  }
 ],
 "metadata": {
  "kernelspec": {
   "display_name": ".venv",
   "language": "python",
   "name": "python3"
  },
  "language_info": {
   "codemirror_mode": {
    "name": "ipython",
    "version": 3
   },
   "file_extension": ".py",
   "mimetype": "text/x-python",
   "name": "python",
   "nbconvert_exporter": "python",
   "pygments_lexer": "ipython3",
   "version": "3.11.5"
  }
 },
 "nbformat": 4,
 "nbformat_minor": 2
}
