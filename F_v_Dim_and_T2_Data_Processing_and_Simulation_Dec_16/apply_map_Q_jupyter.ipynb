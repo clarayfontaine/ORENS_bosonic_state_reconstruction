{
 "cells": [
  {
   "cell_type": "code",
   "execution_count": 1,
   "metadata": {},
   "outputs": [
    {
     "name": "stdout",
     "output_type": "stream",
     "text": [
      "USING Q-FUNCTION POINTS\n"
     ]
    }
   ],
   "source": [
    "import numpy as np\n",
    "import matplotlib.pyplot as plt\n",
    "import os\n",
    "import h5py\n",
    "from qutip import *\n",
    "from estimation import *\n",
    "from data_processing import *\n",
    "from scipy.io import savemat\n",
    "from targets import *\n",
    "import exp_params"
   ]
  },
  {
   "cell_type": "markdown",
   "metadata": {},
   "source": [
    "### Check yourself: print function, dimension, and number of displacements"
   ]
  },
  {
   "cell_type": "code",
   "execution_count": 2,
   "metadata": {},
   "outputs": [
    {
     "name": "stdout",
     "output_type": "stream",
     "text": [
      "Q\n",
      "D=6\n",
      "nD=35\n"
     ]
    }
   ],
   "source": [
    "print(f\"{exp_params.which_function}\\nD={exp_params.D}\\nnD={exp_params.nD}\")"
   ]
  },
  {
   "cell_type": "markdown",
   "metadata": {},
   "source": [
    "### State list"
   ]
  },
  {
   "cell_type": "code",
   "execution_count": 3,
   "metadata": {},
   "outputs": [
    {
     "name": "stdout",
     "output_type": "stream",
     "text": [
      "['fock0' 'fock01' 'fock0i1' 'fock02' 'fock0i2' 'fock1' 'fock03' 'fock0i3'\n",
      " 'fock12' 'fock1i2' 'fock04' 'fock0i4' 'fock13' 'fock1i3' 'fock2' 'fock05'\n",
      " 'fock0i5' 'fock14' 'fock1i4' 'fock23' 'fock2i3' 'fock15' 'fock1i5'\n",
      " 'fock24' 'fock2i4' 'fock3' 'fock25' 'fock2i5' 'fock34' 'fock3i4' 'fock35'\n",
      " 'fock3i5' 'fock4' 'fock45' 'fock4i5' 'fock5']\n"
     ]
    }
   ],
   "source": [
    "state_list = exp_params.fock_state_list\n",
    "print(state_list)"
   ]
  },
  {
   "cell_type": "markdown",
   "metadata": {},
   "source": [
    "### Experimental data directory"
   ]
  },
  {
   "cell_type": "code",
   "execution_count": 4,
   "metadata": {},
   "outputs": [],
   "source": [
    "if exp_params.nD == exp_params.D**2 - 1:\n",
    "    exp_data_directory = r\"data\\fidelity_v_dimension\\Q\\minimal\\D\" + str(exp_params.D)\n",
    "elif exp_params.nD == 2 * (exp_params.D**2 - 1):\n",
    "    exp_data_directory = r\"data\\fidelity_v_dimension\\Q\\double\\D\" + str(exp_params.D)\n",
    "all_files = np.array(os.listdir(exp_data_directory))"
   ]
  },
  {
   "cell_type": "markdown",
   "metadata": {},
   "source": [
    "### Directory for target states generated from grape (we don't use ideal when we're processing experimental data)"
   ]
  },
  {
   "cell_type": "code",
   "execution_count": 5,
   "metadata": {},
   "outputs": [],
   "source": [
    "# GRAPE generated target states\n",
    "target_states_directory = r\"target_states\""
   ]
  },
  {
   "cell_type": "markdown",
   "metadata": {},
   "source": [
    "### Gather linear inversion variables used to generate Least-Squares estimator, $\\rho_{LS}$"
   ]
  },
  {
   "cell_type": "code",
   "execution_count": 6,
   "metadata": {},
   "outputs": [],
   "source": [
    "# Load inverse map variables for converting pe to rho\n",
    "map_variables = np.load(\n",
    "    f\"map_variables\\map_variables_D={exp_params.D}_nD={exp_params.nD}_Q.npz\"\n",
    ")\n",
    "W = map_variables[\"W\"]\n",
    "beta = map_variables[\"beta\"]\n"
   ]
  },
  {
   "cell_type": "markdown",
   "metadata": {},
   "source": [
    "### State estimation with MLE and Bayes"
   ]
  },
  {
   "cell_type": "code",
   "execution_count": 7,
   "metadata": {},
   "outputs": [],
   "source": [
    "F_MLE = np.zeros(len(state_list), dtype=float)\n",
    "F_Bayes_BME = np.zeros(len(state_list), dtype=float)\n",
    "\n",
    "final_rho_BME = np.zeros(\n",
    "    (len(state_list), exp_params.D, exp_params.D), dtype=\"complex_\"\n",
    ")\n",
    "\n",
    "final_rho_MLE = np.zeros(\n",
    "    (len(state_list), exp_params.D, exp_params.D), dtype=\"complex_\"\n",
    ")\n"
   ]
  },
  {
   "cell_type": "code",
   "execution_count": 8,
   "metadata": {},
   "outputs": [
    {
     "name": "stderr",
     "output_type": "stream",
     "text": [
      "C:\\Users\\clara\\AppData\\Local\\Temp\\ipykernel_20872\\2612542100.py:34: DeprecationWarning: Conversion of an array with ndim > 0 to a scalar is deprecated, and will error in future. Ensure you extract a single element from your array before performing this operation. (Deprecated NumPy 1.25.)\n",
      "  data[point - 1] = aux\n"
     ]
    },
    {
     "name": "stdout",
     "output_type": "stream",
     "text": [
      "state 0: fock0: 0.9636455353096797\n",
      "state 1: fock01: 0.9503816194459913\n"
     ]
    }
   ],
   "source": [
    "for j, state_name in enumerate(state_list):  # State List\n",
    "    data = np.zeros([exp_params.nD])  # Initialize data vector\n",
    "\n",
    "    for point in range(1, exp_params.nD + 1):  # Point1 to Point35\n",
    "        # NON-T2 DATA\n",
    "        ending = (\n",
    "            \"D=\"\n",
    "            + str(exp_params.D)\n",
    "            + \"_grape_\"\n",
    "            + str(state_name)\n",
    "            + \"_point\"\n",
    "            + str(point)\n",
    "            + \".h5\"\n",
    "        )\n",
    "      \n",
    "        matching = [\n",
    "            filename for filename in all_files if filename.endswith(str(ending))\n",
    "        ]\n",
    "\n",
    "        filepath = exp_data_directory + \"/\" + matching[0]\n",
    "        file = h5py.File(filepath, \"r\")\n",
    "\n",
    "        signal = post_selection(filepath)\n",
    "\n",
    "        if state_name in exp_params.pes_after_grape[:, 0]:\n",
    "            pge = exp_params.pes_after_grape[\n",
    "                (exp_params.pes_after_grape[:, 0] == state_name), 1\n",
    "            ].astype(float)\n",
    "\n",
    "        else:\n",
    "            pge = exp_params.pe_after_grape_avg\n",
    "\n",
    "        aux = (signal - pge) / (1 - 2 * pge)\n",
    "        data[point - 1] = aux\n",
    "\n",
    "    rho_est, qRho_est = get_LS_and_MLE_rho_est(\n",
    "        data, W, beta, exp_params.D, exp_params.nD\n",
    "    )\n",
    "\n",
    "    rho_tar_qc = Y_target(\n",
    "        state_name, target_states_directory, qdim=exp_params.qdim, cdim=exp_params.cdim\n",
    "    )\n",
    "\n",
    "    rho_tar_c = Qobj(rho_tar_qc.ptrace(1)[0 : exp_params.D, 0 : exp_params.D])\n",
    "    rho_tar_c = rho_tar_c / rho_tar_c.tr()  # normalise it, .unit()\n",
    "\n",
    "    Fmean_bayes, Fstd_bayes, rho_BME = bayesian_rho_est(\n",
    "        numSamp=2**10,\n",
    "        N=exp_params.N_exp,\n",
    "        rho_tar=rho_tar_c,\n",
    "        rhoLS=rho_est.full(),\n",
    "    )\n",
    "\n",
    "    F_Bayes_BME[j] = fidelity(rho_tar_c, Qobj(rho_BME)) ** 2\n",
    "    F_MLE[j] = fidelity(rho_tar_c, qRho_est) ** 2\n",
    "\n",
    "    final_rho_BME[j, :, :] = rho_BME\n",
    "    final_rho_MLE[j, :, :] = qRho_est\n",
    "\n",
    "    print(f\"state {j}: {state_name}: {F_Bayes_BME[j]}\")"
   ]
  },
  {
   "cell_type": "markdown",
   "metadata": {},
   "source": [
    "### Save results in an npz"
   ]
  },
  {
   "cell_type": "code",
   "execution_count": null,
   "metadata": {},
   "outputs": [],
   "source": [
    "if exp_params.nD == exp_params.D**2 - 1:\n",
    "    np.savez(\n",
    "        f\"results_dimensions\\Q\\minimal\\Bayes_F_D={exp_params.D}_nD={exp_params.nD}_BME_MLE_rho_Q.npz\",\n",
    "        F_Bayes_BME=F_Bayes_BME,\n",
    "        F_MLE=F_MLE,\n",
    "        final_rho_BME=final_rho_BME,\n",
    "        final_rho_MLE=final_rho_MLE,\n",
    "    )\n",
    "elif exp_params.nD == 2 * (exp_params.D**2 - 1):\n",
    "    np.savez(\n",
    "        f\"results_dimensions\\Q\\double\\Bayes_F_D={exp_params.D}_nD={exp_params.nD}_BME_MLE_rho_Q.npz\",\n",
    "        F_Bayes_BME=F_Bayes_BME,\n",
    "        F_MLE=F_MLE,\n",
    "        final_rho_BME=final_rho_BME,\n",
    "        final_rho_MLE=final_rho_MLE,\n",
    "    )"
   ]
  },
  {
   "cell_type": "code",
   "execution_count": null,
   "metadata": {},
   "outputs": [],
   "source": []
  }
 ],
 "metadata": {
  "kernelspec": {
   "display_name": ".venv",
   "language": "python",
   "name": "python3"
  },
  "language_info": {
   "codemirror_mode": {
    "name": "ipython",
    "version": 3
   },
   "file_extension": ".py",
   "mimetype": "text/x-python",
   "name": "python",
   "nbconvert_exporter": "python",
   "pygments_lexer": "ipython3",
   "version": "3.11.5"
  }
 },
 "nbformat": 4,
 "nbformat_minor": 2
}
